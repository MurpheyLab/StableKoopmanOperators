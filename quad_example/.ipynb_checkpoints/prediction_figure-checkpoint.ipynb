{
 "cells": [
  {
   "cell_type": "code",
   "execution_count": 6,
   "metadata": {},
   "outputs": [],
   "source": [
    "import numpy as np\n",
    "import pickle as pkl\n",
    "import glob as glob\n",
    "import matplotlib.pyplot as plt"
   ]
  },
  {
   "cell_type": "code",
   "execution_count": 7,
   "metadata": {},
   "outputs": [],
   "source": [
    "fnames = glob.glob('prediction_data/*.pkl')\n",
    "\n",
    "log = {'lsq' : [], 'stable' : []}\n",
    "\n",
    "for fname in fnames:\n",
    "    data = pkl.load(open(fname, 'rb'))\n",
    "    log['lsq'].append(data['lsq'])\n",
    "    log['stable'].append(data['stable'])"
   ]
  },
  {
   "cell_type": "code",
   "execution_count": 32,
   "metadata": {},
   "outputs": [
    {
     "data": {
      "image/png": "[encoded data removed]",
      "text/plain": [
       "<Figure size 180x108 with 1 Axes>"
      ]
     },
     "metadata": {
      "needs_background": "light"
     },
     "output_type": "display_data"
    }
   ],
   "source": [
    "plt.figure(figsize=(2.5,1.5))\n",
    "ax = plt.subplot(111)\n",
    "\n",
    "# Hide the right and top spines\n",
    "ax.spines['right'].set_visible(False)\n",
    "ax.spines['top'].set_visible(False)\n",
    "ax.yaxis.set_label_position(\"right\")\n",
    "\n",
    "x = [i for i in range(len(log['lsq'][0]))]\n",
    "m_lsq = np.mean(log['lsq'], axis=0)\n",
    "std_lsq = np.std(log['lsq'], axis=0)\n",
    "ax.plot(x, m_lsq)\n",
    "ax.fill_between(\n",
    "    x, m_lsq-0.95*std_lsq, m_lsq+0.95*std_lsq, alpha=0.2\n",
    ")\n",
    "m_stable = np.mean(log['stable'], axis=0)\n",
    "std_stable = np.std(log['stable'], axis=0)\n",
    "ax.plot(x, np.mean(log['stable'], axis=0))\n",
    "ax.fill_between(\n",
    "    x, m_stable-0.95*std_stable, m_stable+0.95*std_stable, alpha=0.2\n",
    ")\n",
    "plt.tight_layout()\n",
    "ax.set_ylabel('Prediction Error')\n",
    "ax.set_xlabel('Time Steps')\n",
    "\n",
    "plt.savefig('quad_prediction_error.pdf')"
   ]
  },
  {
   "cell_type": "markdown",
   "metadata": {},
   "source": []
  }
 ],
 "metadata": {
  "kernelspec": {
   "display_name": "Python 3",
   "language": "python",
   "name": "python3"
  },
  "language_info": {
   "codemirror_mode": {
    "name": "ipython",
    "version": 3
   },
   "file_extension": ".py",
   "mimetype": "text/x-python",
   "name": "python",
   "nbconvert_exporter": "python",
   "pygments_lexer": "ipython3",
   "version": "3.8.5"
  }
 },
 "nbformat": 4,
 "nbformat_minor": 4
}
