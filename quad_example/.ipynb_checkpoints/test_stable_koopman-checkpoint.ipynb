{
 "cells": [
  {
   "cell_type": "code",
   "execution_count": 1,
   "metadata": {},
   "outputs": [],
   "source": [
    "import numpy as np\n",
    "from stable_koopman_operator import StableKoopmanOperator\n",
    "from quad import Quad\n",
    "from task import Task, Adjoint\n",
    "\n",
    "import matplotlib.pyplot as plt\n",
    "import scipy.linalg\n",
    "from group_theory import VecTose3, TransToRp, RpToTrans\n",
    "from lqr import FiniteHorizonLQR\n",
    "from quatmath import euler2mat "
   ]
  },
  {
   "cell_type": "markdown",
   "metadata": {},
   "source": [
    "Helper Functions\n",
    "================"
   ]
  },
  {
   "cell_type": "code",
   "execution_count": 2,
   "metadata": {},
   "outputs": [],
   "source": [
    "def get_measurement(x):\n",
    "    g = x[0:16].reshape((4,4)) ## SE(3) matrix\n",
    "    R,p = TransToRp(g)\n",
    "    twist = x[16:]\n",
    "    grot = np.dot(R, [0., 0., -9.81]) ## gravity vec rel to body frame\n",
    "    return np.concatenate((grot, twist)) \n",
    "\n",
    "def get_position(x):\n",
    "    g = x[0:16].reshape((4,4))\n",
    "    R,p = TransToRp(g)\n",
    "    return p\n",
    "\n",
    "import numpy as np\n",
    "import random\n",
    "\n",
    "class ReplayBuffer:\n",
    "    def __init__(self, capacity):\n",
    "        self.capacity = capacity\n",
    "        self.buffer = []\n",
    "        self.position = 0\n",
    "\n",
    "    def push(self, state, action, next_state):\n",
    "        if len(self.buffer) < self.capacity:\n",
    "            self.buffer.append(None)\n",
    "        self.buffer[self.position] = (state, action, next_state)\n",
    "        self.position = (self.position + 1) % self.capacity\n",
    "\n",
    "    def sample(self, batch_size):\n",
    "        batch = random.sample(self.buffer, batch_size)\n",
    "        state, action, next_state = map(np.stack, zip(*batch))\n",
    "        return state, action, next_state\n",
    "\n",
    "    def __len__(self):\n",
    "        return len(self.buffer)\n",
    "\n"
   ]
  },
  {
   "cell_type": "code",
   "execution_count": 3,
   "metadata": {},
   "outputs": [],
   "source": [
    "quad = Quad() ### instantiate a quadcopter\n",
    "replay_buffer = ReplayBuffer(100000)\n",
    "### the timing parameters for the quad are used\n",
    "### to construct the koopman operator and the adjoint dif-eq \n",
    "koopman_operator = StableKoopmanOperator(quad.time_step)\n",
    "adjoint = Adjoint(quad.time_step)\n"
   ]
  },
  {
   "cell_type": "code",
   "execution_count": 4,
   "metadata": {},
   "outputs": [
    {
     "data": {
      "text/plain": [
       "array([5.20824473, 4.02686913, 4.02686913, 3.9887824 , 3.9887824 ,\n",
       "       4.3254312 , 4.05214132, 4.05214132, 3.30605254, 3.17187699,\n",
       "       3.17187699, 3.02802734, 2.05944814, 2.05944814, 2.04756943,\n",
       "       2.04756943, 1.35723636, 1.35723636, 1.72007831, 1.72007831,\n",
       "       1.06921092, 1.06921092])"
      ]
     },
     "execution_count": 4,
     "metadata": {},
     "output_type": "execute_result"
    }
   ],
   "source": [
    "np.abs(np.linalg.eig(koopman_operator.K)[0])"
   ]
  },
  {
   "cell_type": "code",
   "execution_count": 5,
   "metadata": {},
   "outputs": [],
   "source": [
    "_R = euler2mat(np.random.uniform(-1.,1., size=(3,)))\n",
    "_p = np.array([0., 0., 0.])\n",
    "_g = RpToTrans(_R, _p).ravel()\n",
    "_twist = np.random.uniform(-1., 1., size=(6,)) #* 2.0\n",
    "state = np.r_[_g, _twist]"
   ]
  },
  {
   "cell_type": "code",
   "execution_count": 6,
   "metadata": {},
   "outputs": [
    {
     "name": "stdout",
     "output_type": "stream",
     "text": [
      "3.966627814947205e-06\n",
      "0.00013186867741277767\n",
      "1.6682897930950037e-05\n",
      "1.2568160894784364e-05\n",
      "1.0331109011914223e-05\n"
     ]
    },
    {
     "name": "stderr",
     "output_type": "stream",
     "text": [
      "/home/burn/.local/lib/python3.6/site-packages/scipy/linalg/_matfuncs_inv_ssq.py:838: LogmNearlySingularWarning: The logm input matrix may be nearly singular.\n",
      "  warnings.warn(near_singularity_msg, LogmNearlySingularWarning)\n"
     ]
    },
    {
     "name": "stdout",
     "output_type": "stream",
     "text": [
      "6.945886986297897e-05\n",
      "0.0001558179400205232\n",
      "0.00015582216116905934\n",
      "3.966627814487561e-06\n",
      "3.604343195477028e-05\n",
      "4.320112195429096e-05\n",
      "3.6043431955541404e-05\n",
      "9.06701082423536e-05\n",
      "9.17475844224197e-05\n",
      "0.0002925260220568763\n",
      "3.966627814947205e-06\n",
      "0.0002683517546021492\n",
      "0.00026452831938913025\n",
      "6.025769687029074e-05\n",
      "2.800771030611627e-05\n",
      "6.383575271595768e-05\n",
      "3.0435612919564934e-05\n",
      "2.883083792788344e-05\n",
      "0.00013456693311323856\n",
      "0.00036620581606079076\n",
      "6.795795799546681e-05\n",
      "2.7642793079025555e-05\n",
      "0.00010274538910749478\n",
      "4.7523223875270026e-05\n",
      "3.156272974370394e-05\n",
      "8.773679926626415e-05\n",
      "0.0001342644557422558\n",
      "6.774159382142617e-05\n",
      "0.0003320380506433459\n",
      "3.219417708953013e-05\n",
      "7.697936259296619e-05\n",
      "6.780605994650663e-05\n",
      "0.00029757411340906203\n",
      "0.00020264311024024016\n",
      "0.00010701875113385849\n",
      "9.649730539261142e-05\n",
      "1.725687920853637e-05\n",
      "8.929809086712701e-05\n",
      "5.023671471849295e-05\n",
      "0.00013066449861931978\n",
      "8.258399679842058e-05\n",
      "7.141370694178433e-05\n",
      "3.3402703846624026e-05\n",
      "9.0961150555531e-05\n",
      "0.00014735693404712688\n",
      "0.00020142912839125635\n",
      "9.388839329989875e-05\n",
      "0.0003494139046112972\n",
      "0.0001691314090986925\n",
      "9.48284865497288e-05\n",
      "9.99241670475937e-05\n",
      "9.517555287729041e-05\n",
      "2.9740299204130157e-05\n",
      "0.0001368150271599201\n",
      "0.0005983917927009073\n",
      "0.00013501027477941715\n",
      "3.638109119459252e-05\n",
      "8.046539502679209e-05\n",
      "0.0001106812743155402\n",
      "3.427964915006931e-05\n",
      "3.2814825102518354e-05\n",
      "7.801502506457972e-05\n",
      "9.800267380952113e-05\n",
      "0.00023276711670320462\n",
      "0.0009562203723955369\n",
      "9.481750451636217e-05\n",
      "0.00020112943774207998\n",
      "0.0001560614893802762\n",
      "0.0002415330563091758\n"
     ]
    },
    {
     "ename": "KeyboardInterrupt",
     "evalue": "",
     "output_type": "error",
     "traceback": [
      "\u001b[0;31m---------------------------------------------------------------------------\u001b[0m",
      "\u001b[0;31mKeyboardInterrupt\u001b[0m                         Traceback (most recent call last)",
      "\u001b[0;32m<ipython-input-6-9deaa23bd83e>\u001b[0m in \u001b[0;36m<module>\u001b[0;34m\u001b[0m\n\u001b[1;32m     10\u001b[0m         \u001b[0minput_data\u001b[0m\u001b[0;34m,\u001b[0m \u001b[0mcontrol_data\u001b[0m\u001b[0;34m,\u001b[0m \u001b[0moutput_data\u001b[0m \u001b[0;34m=\u001b[0m \u001b[0mreplay_buffer\u001b[0m\u001b[0;34m.\u001b[0m\u001b[0msample\u001b[0m\u001b[0;34m(\u001b[0m\u001b[0mbatch_size\u001b[0m\u001b[0;34m)\u001b[0m\u001b[0;34m\u001b[0m\u001b[0;34m\u001b[0m\u001b[0m\n\u001b[1;32m     11\u001b[0m         koopman_operator.compute_operator_from_data(input_data, control_data, \n\u001b[0;32m---> 12\u001b[0;31m                                                         output_data)\n\u001b[0m\u001b[1;32m     13\u001b[0m     \u001b[0mstate\u001b[0m \u001b[0;34m=\u001b[0m \u001b[0mnext_state\u001b[0m\u001b[0;34m\u001b[0m\u001b[0;34m\u001b[0m\u001b[0m\n",
      "\u001b[0;32m~/SandBox/active-learning-koopman/quad_example/stable_koopman_operator.py\u001b[0m in \u001b[0;36mcompute_operator_from_data\u001b[0;34m(self, datain, cdata, dataout)\u001b[0m\n\u001b[1;32m     89\u001b[0m             \u001b[0mself\u001b[0m\u001b[0;34m.\u001b[0m\u001b[0mB\u001b[0m \u001b[0;34m=\u001b[0m \u001b[0mprojectPSD\u001b[0m\u001b[0;34m(\u001b[0m\u001b[0mself\u001b[0m\u001b[0;34m.\u001b[0m\u001b[0mB\u001b[0m\u001b[0;34m,\u001b[0m \u001b[0;36m0\u001b[0m\u001b[0;34m,\u001b[0m \u001b[0;36m1\u001b[0m\u001b[0;34m)\u001b[0m\u001b[0;34m\u001b[0m\u001b[0;34m\u001b[0m\u001b[0m\n\u001b[1;32m     90\u001b[0m \u001b[0;34m\u001b[0m\u001b[0m\n\u001b[0;32m---> 91\u001b[0;31m         \u001b[0mself\u001b[0m\u001b[0;34m.\u001b[0m\u001b[0mS\u001b[0m\u001b[0;34m,\u001b[0m \u001b[0mself\u001b[0m\u001b[0;34m.\u001b[0m\u001b[0mU\u001b[0m\u001b[0;34m,\u001b[0m \u001b[0mself\u001b[0m\u001b[0;34m.\u001b[0m\u001b[0mB\u001b[0m\u001b[0;34m,\u001b[0m \u001b[0mself\u001b[0m\u001b[0;34m.\u001b[0m\u001b[0mK\u001b[0m\u001b[0;34m,\u001b[0m \u001b[0merr\u001b[0m \u001b[0;34m=\u001b[0m \u001b[0mstabilize_discrete\u001b[0m\u001b[0;34m(\u001b[0m\u001b[0mX\u001b[0m\u001b[0;34m,\u001b[0m \u001b[0mY\u001b[0m\u001b[0;34m,\u001b[0m \u001b[0mself\u001b[0m\u001b[0;34m.\u001b[0m\u001b[0mS\u001b[0m\u001b[0;34m,\u001b[0m \u001b[0mself\u001b[0m\u001b[0;34m.\u001b[0m\u001b[0mU\u001b[0m\u001b[0;34m,\u001b[0m \u001b[0mself\u001b[0m\u001b[0;34m.\u001b[0m\u001b[0mB\u001b[0m\u001b[0;34m)\u001b[0m\u001b[0;34m\u001b[0m\u001b[0;34m\u001b[0m\u001b[0m\n\u001b[0m\u001b[1;32m     92\u001b[0m \u001b[0;34m\u001b[0m\u001b[0m\n\u001b[1;32m     93\u001b[0m         \u001b[0mKcont\u001b[0m \u001b[0;34m=\u001b[0m \u001b[0mnp\u001b[0m\u001b[0;34m.\u001b[0m\u001b[0mreal\u001b[0m\u001b[0;34m(\u001b[0m\u001b[0mlogm\u001b[0m\u001b[0;34m(\u001b[0m\u001b[0mself\u001b[0m\u001b[0;34m.\u001b[0m\u001b[0mK\u001b[0m\u001b[0;34m,\u001b[0m \u001b[0mdisp\u001b[0m\u001b[0;34m=\u001b[0m\u001b[0;32mFalse\u001b[0m\u001b[0;34m)\u001b[0m\u001b[0;34m[\u001b[0m\u001b[0;36m0\u001b[0m\u001b[0;34m]\u001b[0m\u001b[0;34m/\u001b[0m\u001b[0mself\u001b[0m\u001b[0;34m.\u001b[0m\u001b[0msampling_time\u001b[0m\u001b[0;34m)\u001b[0m\u001b[0;34m\u001b[0m\u001b[0;34m\u001b[0m\u001b[0m\n",
      "\u001b[0;32m~/SandBox/active-learning-koopman/quad_example/stable_step.py\u001b[0m in \u001b[0;36mstabilize_discrete\u001b[0;34m(X, Y, S, U, B, max_iter)\u001b[0m\n\u001b[1;32m     50\u001b[0m \u001b[0;34m\u001b[0m\u001b[0m\n\u001b[1;32m     51\u001b[0m     \u001b[0;31m# Initialization\u001b[0m\u001b[0;34m\u001b[0m\u001b[0;34m\u001b[0m\u001b[0;34m\u001b[0m\u001b[0m\n\u001b[0;32m---> 52\u001b[0;31m     \u001b[0merror\u001b[0m\u001b[0;34m,\u001b[0m\u001b[0m_\u001b[0m\u001b[0;34m,\u001b[0m\u001b[0m_\u001b[0m\u001b[0;34m,\u001b[0m\u001b[0m_\u001b[0m \u001b[0;34m=\u001b[0m \u001b[0mgradients\u001b[0m\u001b[0;34m(\u001b[0m\u001b[0mX\u001b[0m\u001b[0;34m,\u001b[0m\u001b[0mY\u001b[0m\u001b[0;34m,\u001b[0m\u001b[0mS\u001b[0m\u001b[0;34m,\u001b[0m\u001b[0mU\u001b[0m\u001b[0;34m,\u001b[0m\u001b[0mB\u001b[0m\u001b[0;34m)\u001b[0m\u001b[0;34m\u001b[0m\u001b[0;34m\u001b[0m\u001b[0m\n\u001b[0m\u001b[1;32m     53\u001b[0m     \u001b[0;31m#print(\"Error is \", error)\u001b[0m\u001b[0;34m\u001b[0m\u001b[0;34m\u001b[0m\u001b[0;34m\u001b[0m\u001b[0m\n\u001b[1;32m     54\u001b[0m     \u001b[0mstep\u001b[0m \u001b[0;34m=\u001b[0m \u001b[0;36m1\u001b[0m\u001b[0;34m/\u001b[0m\u001b[0mL\u001b[0m\u001b[0;34m\u001b[0m\u001b[0;34m\u001b[0m\u001b[0m\n",
      "\u001b[0;32m~/SandBox/active-learning-koopman/quad_example/stable_step.py\u001b[0m in \u001b[0;36mgradients\u001b[0;34m(X, Y, S, U, B)\u001b[0m\n\u001b[1;32m     14\u001b[0m \u001b[0;34m\u001b[0m\u001b[0m\n\u001b[1;32m     15\u001b[0m \u001b[0;32mdef\u001b[0m \u001b[0mgradients\u001b[0m\u001b[0;34m(\u001b[0m\u001b[0mX\u001b[0m\u001b[0;34m,\u001b[0m\u001b[0mY\u001b[0m\u001b[0;34m,\u001b[0m \u001b[0mS\u001b[0m\u001b[0;34m,\u001b[0m \u001b[0mU\u001b[0m\u001b[0;34m,\u001b[0m \u001b[0mB\u001b[0m\u001b[0;34m)\u001b[0m\u001b[0;34m:\u001b[0m\u001b[0;34m\u001b[0m\u001b[0;34m\u001b[0m\u001b[0m\n\u001b[0;32m---> 16\u001b[0;31m     \u001b[0mSinv\u001b[0m \u001b[0;34m=\u001b[0m \u001b[0mnp\u001b[0m\u001b[0;34m.\u001b[0m\u001b[0mlinalg\u001b[0m\u001b[0;34m.\u001b[0m\u001b[0minv\u001b[0m\u001b[0;34m(\u001b[0m\u001b[0mS\u001b[0m\u001b[0;34m)\u001b[0m\u001b[0;34m\u001b[0m\u001b[0;34m\u001b[0m\u001b[0m\n\u001b[0m\u001b[1;32m     17\u001b[0m     \u001b[0mR\u001b[0m \u001b[0;34m=\u001b[0m \u001b[0mSinv\u001b[0m\u001b[0;34m.\u001b[0m\u001b[0mdot\u001b[0m\u001b[0;34m(\u001b[0m\u001b[0mU\u001b[0m\u001b[0;34m)\u001b[0m\u001b[0;34m.\u001b[0m\u001b[0mdot\u001b[0m\u001b[0;34m(\u001b[0m\u001b[0mB\u001b[0m\u001b[0;34m)\u001b[0m\u001b[0;34m.\u001b[0m\u001b[0mdot\u001b[0m\u001b[0;34m(\u001b[0m\u001b[0mS\u001b[0m\u001b[0;34m)\u001b[0m\u001b[0;34m.\u001b[0m\u001b[0mdot\u001b[0m\u001b[0;34m(\u001b[0m\u001b[0mX\u001b[0m\u001b[0;34m)\u001b[0m\u001b[0;34m\u001b[0m\u001b[0;34m\u001b[0m\u001b[0m\n\u001b[1;32m     18\u001b[0m     \u001b[0;31m# R = np.linalg.multi_dot([Sinv, U, B, S, X])\u001b[0m\u001b[0;34m\u001b[0m\u001b[0;34m\u001b[0m\u001b[0;34m\u001b[0m\u001b[0m\n",
      "\u001b[0;32m<__array_function__ internals>\u001b[0m in \u001b[0;36minv\u001b[0;34m(*args, **kwargs)\u001b[0m\n",
      "\u001b[0;32m~/.local/lib/python3.6/site-packages/numpy/linalg/linalg.py\u001b[0m in \u001b[0;36minv\u001b[0;34m(a)\u001b[0m\n\u001b[1;32m    549\u001b[0m     \u001b[0msignature\u001b[0m \u001b[0;34m=\u001b[0m \u001b[0;34m'D->D'\u001b[0m \u001b[0;32mif\u001b[0m \u001b[0misComplexType\u001b[0m\u001b[0;34m(\u001b[0m\u001b[0mt\u001b[0m\u001b[0;34m)\u001b[0m \u001b[0;32melse\u001b[0m \u001b[0;34m'd->d'\u001b[0m\u001b[0;34m\u001b[0m\u001b[0;34m\u001b[0m\u001b[0m\n\u001b[1;32m    550\u001b[0m     \u001b[0mextobj\u001b[0m \u001b[0;34m=\u001b[0m \u001b[0mget_linalg_error_extobj\u001b[0m\u001b[0;34m(\u001b[0m\u001b[0m_raise_linalgerror_singular\u001b[0m\u001b[0;34m)\u001b[0m\u001b[0;34m\u001b[0m\u001b[0;34m\u001b[0m\u001b[0m\n\u001b[0;32m--> 551\u001b[0;31m     \u001b[0mainv\u001b[0m \u001b[0;34m=\u001b[0m \u001b[0m_umath_linalg\u001b[0m\u001b[0;34m.\u001b[0m\u001b[0minv\u001b[0m\u001b[0;34m(\u001b[0m\u001b[0ma\u001b[0m\u001b[0;34m,\u001b[0m \u001b[0msignature\u001b[0m\u001b[0;34m=\u001b[0m\u001b[0msignature\u001b[0m\u001b[0;34m,\u001b[0m \u001b[0mextobj\u001b[0m\u001b[0;34m=\u001b[0m\u001b[0mextobj\u001b[0m\u001b[0;34m)\u001b[0m\u001b[0;34m\u001b[0m\u001b[0;34m\u001b[0m\u001b[0m\n\u001b[0m\u001b[1;32m    552\u001b[0m     \u001b[0;32mreturn\u001b[0m \u001b[0mwrap\u001b[0m\u001b[0;34m(\u001b[0m\u001b[0mainv\u001b[0m\u001b[0;34m.\u001b[0m\u001b[0mastype\u001b[0m\u001b[0;34m(\u001b[0m\u001b[0mresult_t\u001b[0m\u001b[0;34m,\u001b[0m \u001b[0mcopy\u001b[0m\u001b[0;34m=\u001b[0m\u001b[0;32mFalse\u001b[0m\u001b[0;34m)\u001b[0m\u001b[0;34m)\u001b[0m\u001b[0;34m\u001b[0m\u001b[0;34m\u001b[0m\u001b[0m\n\u001b[1;32m    553\u001b[0m \u001b[0;34m\u001b[0m\u001b[0m\n",
      "\u001b[0;31mKeyboardInterrupt\u001b[0m: "
     ]
    }
   ],
   "source": [
    "batch_size=64\n",
    "\n",
    "for t in range(1000):\n",
    "    m_state = get_measurement(state)\n",
    "    ustar = np.random.normal(0., 0.2, size=(4,))\n",
    "    next_state = quad.step(state, ustar)\n",
    "    \n",
    "    replay_buffer.push(m_state, ustar, get_measurement(next_state))\n",
    "    if len(replay_buffer) > batch_size:\n",
    "        input_data, control_data, output_data = replay_buffer.sample(batch_size)\n",
    "        koopman_operator.compute_operator_from_data(input_data, control_data, \n",
    "                                                        output_data)\n",
    "    state = next_state"
   ]
  },
  {
   "cell_type": "code",
   "execution_count": 9,
   "metadata": {},
   "outputs": [
    {
     "data": {
      "text/plain": [
       "(32, 4)"
      ]
     },
     "execution_count": 9,
     "metadata": {},
     "output_type": "execute_result"
    }
   ],
   "source": [
    "output_data.shape"
   ]
  },
  {
   "cell_type": "code",
   "execution_count": 7,
   "metadata": {},
   "outputs": [
    {
     "data": {
      "text/plain": [
       "array([2.63462303e-17, 9.99983183e-01, 6.74816689e-17, 3.84552189e-17,\n",
       "       1.50573735e-17, 9.70101371e-18, 5.21248054e-18, 4.75279010e-18,\n",
       "       2.39878693e-18, 2.23012645e-18, 2.16871328e-18, 2.12969892e-18,\n",
       "       1.71624728e-18, 1.28426544e-18, 1.08520593e-18, 5.06608973e-19,\n",
       "       4.55842193e-19, 5.76707533e-19, 3.50158960e-19, 1.87522905e-19,\n",
       "       8.15118789e-20, 1.70662771e-19])"
      ]
     },
     "execution_count": 7,
     "metadata": {},
     "output_type": "execute_result"
    }
   ],
   "source": [
    "np.abs(np.linalg.eig(koopman_operator.K)[0])"
   ]
  },
  {
   "cell_type": "code",
   "execution_count": 8,
   "metadata": {},
   "outputs": [
    {
     "data": {
      "text/plain": [
       "array([-3.78174352e+00  +0.j        , -9.13194503e+03  +0.j        ,\n",
       "       -8.66731243e+03  +0.j        , -8.49670322e+03+300.01507283j,\n",
       "       -8.49670322e+03-300.01507283j, -8.44649539e+03  +0.j        ,\n",
       "       -8.20784850e+03+304.39593915j, -8.20784850e+03-304.39593915j,\n",
       "       -8.03443809e+03+315.45823487j, -8.03443809e+03-315.45823487j,\n",
       "       -7.45223206e+03  +0.j        , -7.55491808e+03 +73.3284287j ,\n",
       "       -7.55491808e+03 -73.3284287j , -7.62669094e+03  +0.j        ,\n",
       "       -7.83535549e+03 +36.89041868j, -7.83535549e+03 -36.89041868j,\n",
       "       -7.83517113e+03  +0.j        , -8.12173620e+03  +0.j        ])"
      ]
     },
     "execution_count": 8,
     "metadata": {},
     "output_type": "execute_result"
    }
   ],
   "source": [
    "np.linalg.eig(koopman_operator.Kx)[0]"
   ]
  },
  {
   "cell_type": "code",
   "execution_count": null,
   "metadata": {},
   "outputs": [],
   "source": []
  }
 ],
 "metadata": {
  "kernelspec": {
   "display_name": "Python 3",
   "language": "python",
   "name": "python3"
  },
  "language_info": {
   "codemirror_mode": {
    "name": "ipython",
    "version": 3
   },
   "file_extension": ".py",
   "mimetype": "text/x-python",
   "name": "python",
   "nbconvert_exporter": "python",
   "pygments_lexer": "ipython3",
   "version": "3.6.9"
  }
 },
 "nbformat": 4,
 "nbformat_minor": 4
}
