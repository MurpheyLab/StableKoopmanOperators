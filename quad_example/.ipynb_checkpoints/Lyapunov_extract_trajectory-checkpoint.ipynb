{
 "cells": [
  {
   "cell_type": "code",
   "execution_count": 1,
   "metadata": {
    "Collapsed": "false"
   },
   "outputs": [],
   "source": [
    "import numpy as np\n",
    "import matplotlib.pyplot as plt\n",
    "import pickle as pkl\n",
    "\n",
    "# import seaborn as sns\n",
    "# plt.style.use('seaborn-darkgrid')\n",
    "\n",
    "import glob\n",
    "from matplotlib import rcParams, rc\n",
    "\n",
    "# rcParams['font.family'] = 'sans-serif'\n",
    "# rc('font',**{'family':'serif','serif':['Times']})\n"
   ]
  },
  {
   "cell_type": "code",
   "execution_count": 15,
   "metadata": {
    "Collapsed": "false"
   },
   "outputs": [],
   "source": [
    "data = {\n",
    "    'actively_learned_koopman' : {'traj' : [], 'T' : []},\n",
    "    'stable_koopman' : {'traj' : [], 'T' : []}\n",
    "}\n",
    "\n",
    "stable_koopman = []\n",
    "unstable_koopman = []\n",
    "for fpath in glob.glob('data/*.pkl'):\n",
    "    _data = pkl.load(open(fpath, 'rb'))\n",
    "    try:\n",
    "        data[_data['kind']]['traj'].append(_data['saved_state_traj'])\n",
    "        data[_data['kind']]['T'].append(_data['T'])\n",
    "    except KeyError as ke:\n",
    "        pass\n",
    "\n"
   ]
  },
  {
   "cell_type": "code",
   "execution_count": 19,
   "metadata": {},
   "outputs": [],
   "source": [
    "for i, (traj, T) in enumerate(zip(data['actively_learned_koopman']['traj'],\n",
    "                                 data['actively_learned_koopman']['T'])):\n",
    "    fname = 'unstable_koopman_trial_{}_horizon_{}.csv'.format(i, T)\n",
    "    np.savetxt(fname, traj)"
   ]
  },
  {
   "cell_type": "code",
   "execution_count": 20,
   "metadata": {},
   "outputs": [],
   "source": [
    "for i, (traj, T) in enumerate(zip(data['stable_koopman']['traj'],\n",
    "                                 data['stable_koopman']['T'])):\n",
    "    fname = 'stable_koopman_trial_{}_horizon_{}.csv'.format(i, T)\n",
    "    np.savetxt(fname, traj)"
   ]
  },
  {
   "cell_type": "code",
   "execution_count": null,
   "metadata": {},
   "outputs": [],
   "source": []
  }
 ],
 "metadata": {
  "kernelspec": {
   "display_name": "Python 3",
   "language": "python",
   "name": "python3"
  },
  "language_info": {
   "codemirror_mode": {
    "name": "ipython",
    "version": 3
   },
   "file_extension": ".py",
   "mimetype": "text/x-python",
   "name": "python",
   "nbconvert_exporter": "python",
   "pygments_lexer": "ipython3",
   "version": "3.8.5"
  }
 },
 "nbformat": 4,
 "nbformat_minor": 4
}
