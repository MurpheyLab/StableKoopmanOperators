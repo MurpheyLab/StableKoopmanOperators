{
 "cells": [
  {
   "cell_type": "code",
   "execution_count": 3,
   "metadata": {},
   "outputs": [],
   "source": [
    "import numpy as np\n",
    "import sys\n",
    "import scipy.io as sio"
   ]
  },
  {
   "cell_type": "code",
   "execution_count": 6,
   "metadata": {},
   "outputs": [],
   "source": [
    "dat = sio.loadmat('A_stable_and_B_for_Ian.mat')#['A_stable']"
   ]
  },
  {
   "cell_type": "code",
   "execution_count": 7,
   "metadata": {},
   "outputs": [],
   "source": [
    "A = dat['A_stable']"
   ]
  },
  {
   "cell_type": "code",
   "execution_count": 8,
   "metadata": {},
   "outputs": [],
   "source": [
    "B = dat['B']"
   ]
  },
  {
   "cell_type": "code",
   "execution_count": 9,
   "metadata": {},
   "outputs": [
    {
     "data": {
      "text/plain": [
       "array([[-6.15109357e-03,  1.42752845e-03],\n",
       "       [-6.35344620e-04, -6.33359396e-04],\n",
       "       [-1.11554057e-02,  4.05342694e-02],\n",
       "       [ 6.61642157e-03, -2.94013000e-03],\n",
       "       [-3.85724304e-02,  8.07111514e-01],\n",
       "       [ 7.78157136e-01,  4.24966789e-03],\n",
       "       [-1.57803326e-02, -3.14736686e-03],\n",
       "       [-1.10452544e-02,  7.91193025e-01],\n",
       "       [ 1.21921447e-02,  8.34647695e-03],\n",
       "       [ 7.39443065e-01,  1.38370120e-02],\n",
       "       [-4.95188267e-04, -4.69217518e-03],\n",
       "       [ 1.53587647e-01,  3.86441208e-02]])"
      ]
     },
     "execution_count": 9,
     "metadata": {},
     "output_type": "execute_result"
    }
   ],
   "source": [
    "B"
   ]
  },
  {
   "cell_type": "code",
   "execution_count": null,
   "metadata": {},
   "outputs": [],
   "source": []
  }
 ],
 "metadata": {
  "kernelspec": {
   "display_name": "Python 3",
   "language": "python",
   "name": "python3"
  },
  "language_info": {
   "codemirror_mode": {
    "name": "ipython",
    "version": 3
   },
   "file_extension": ".py",
   "mimetype": "text/x-python",
   "name": "python",
   "nbconvert_exporter": "python",
   "pygments_lexer": "ipython3",
   "version": "3.8.5"
  }
 },
 "nbformat": 4,
 "nbformat_minor": 4
}
