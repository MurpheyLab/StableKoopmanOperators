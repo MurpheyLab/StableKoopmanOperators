{
 "cells": [
  {
   "cell_type": "code",
   "execution_count": 1,
   "metadata": {},
   "outputs": [],
   "source": [
    "import numpy as np\n",
    "import matplotlib.pyplot as plt\n",
    "import pickle as pkl\n",
    "import glob as glob"
   ]
  },
  {
   "cell_type": "code",
   "execution_count": 2,
   "metadata": {},
   "outputs": [],
   "source": [
    "log = {\n",
    "    'least squares': {\n",
    "        'finite horizon': {\n",
    "            'traj cost' : [], \n",
    "            'err' :[]}, \n",
    "        'infinite horizon' :  {\n",
    "            'traj cost' : [], \n",
    "            'err' :[]}\n",
    "    },\n",
    "    'stable' : {'finite horizon':  {'traj cost' : [], 'err' :[]}, 'infinite horizon' :  {'traj cost' : [], 'err' :[]}}\n",
    "}"
   ]
  },
  {
   "cell_type": "code",
   "execution_count": 3,
   "metadata": {},
   "outputs": [
    {
     "data": {
      "text/plain": [
       "40"
      ]
     },
     "execution_count": 3,
     "metadata": {},
     "output_type": "execute_result"
    }
   ],
   "source": [
    "len(glob.glob('data/*.pkl'))"
   ]
  },
  {
   "cell_type": "code",
   "execution_count": 4,
   "metadata": {},
   "outputs": [],
   "source": [
    "for fname in glob.glob('data/*.pkl'):\n",
    "    data = pkl.load(open(fname, 'rb'))\n",
    "    log[data['operator']][data['method']]['traj cost'].append(\n",
    "        data['traj cost']\n",
    "    )\n",
    "    log[data['operator']][data['method']]['err'].append(\n",
    "        data['err']\n",
    "    )\n",
    "    "
   ]
  },
  {
   "cell_type": "code",
   "execution_count": 7,
   "metadata": {},
   "outputs": [
    {
     "name": "stdout",
     "output_type": "stream",
     "text": [
      "finite horizon least squares 16.07940216143406 8.757295477755243\n",
      "trans err finite horizon least squares 0.002326073817707206 0.436210333147303\n",
      "rot err finite horizon least squares 0.08354806002783169 0.4642382255428432\n",
      "infinite horizon least squares 20.60604657291381 11.791627986265707\n",
      "trans err infinite horizon least squares 0.0006991611963500149 0.43047508246861965\n",
      "rot err infinite horizon least squares 0.022498309996258986 0.4751379297385695\n",
      "finite horizon stable 8.753776386939753 11.695717342426983\n",
      "trans err finite horizon stable 0.033594161565964904 0.49336682281420824\n",
      "rot err finite horizon stable 0.004842286844469967 0.3790334485426443\n",
      "infinite horizon stable 13.774775474469767 23.25914717233836\n",
      "trans err infinite horizon stable 0.03272758760345439 0.5092968591243112\n",
      "rot err infinite horizon stable 0.0003068369172795071 0.39443709788724\n"
     ]
    },
    {
     "data": {
      "text/plain": [
       "<matplotlib.legend.Legend at 0x7fa607261880>"
      ]
     },
     "execution_count": 7,
     "metadata": {},
     "output_type": "execute_result"
    },
    {
     "data": {
      "image/png": "[encoded data removed]",
      "text/plain": [
       "<Figure size 432x288 with 1 Axes>"
      ]
     },
     "metadata": {
      "needs_background": "light"
     },
     "output_type": "display_data"
    }
   ],
   "source": [
    "# plt.figure(figsize=(3,2))\n",
    "ax = plt.subplot(111)\n",
    "for operator in log.keys():\n",
    "    for method in log[operator].keys():\n",
    "        _traj_cost = np.array(log[operator][method]['traj cost'])\n",
    "#         print(_traj_cost)\n",
    "        _err = np.array(log[operator][method]['err'])\n",
    "#         print(_err.shape)\n",
    "#         print(np.linalg.norm(_err[:,-1,:2], axis=1))\n",
    "#         print(np.median(np.linalg.norm(_err[:,-1,:2],axis=1)))\n",
    "#         print(np.median(np.abs(_err[:,-1,2])*180/np.pi))\n",
    "\n",
    "#         print(_traj_cost[:,-1])\n",
    "#         print(_traj_cost.shape)\n",
    "#         plt.plot(np.mean(_traj_cost, axis=0), label=operator+method)\n",
    "        _skip = 1\n",
    "        mn_t_cost = np.mean(_traj_cost, axis=0)[::_skip]\n",
    "        _std_t_cost = np.std(_traj_cost, axis=0)[::_skip]\n",
    "        _t = [i for i in range(mn_t_cost.shape[0])]\n",
    "\n",
    "        plt.plot(mn_t_cost, label=operator+method)\n",
    "        plt.fill_between(_t, mn_t_cost-_std_t_cost/np.sqrt(10),\n",
    "                         mn_t_cost+_std_t_cost/np.sqrt(10), alpha=0.1\n",
    "        )\n",
    "        \n",
    "#         ax.errorbar(_t, mn_t_cost, _std_t_cost, \n",
    "#                     linestyle='None', fmt='-o', capsize=5, label=operator+method)\n",
    "#         ax.errorbar(Ts, J['stab'], J_std['stab'], \n",
    "#                     linestyle='None', fmt='-o', capsize=5, label='Stable Koopman')        \n",
    "\n",
    "#         print(method, operator, np.mean(_traj_cost))\n",
    "        print(method, operator, np.mean(_traj_cost[:,-1]), np.std(_traj_cost[:,-1]))\n",
    "        _term_state_err = np.linalg.norm(_err[:,-1,:2], axis=1)\n",
    "        _term_rot_err = np.abs(_err[:,-1,2])\n",
    "        \n",
    "        print('trans err',method, operator, _term_state_err.min(), _term_state_err.max())\n",
    "        print('rot err',method, operator, _term_rot_err.min(), _term_rot_err.max())\n",
    "\n",
    "#         print(np.mean(_traj_cost), np.std(_traj_cost))\n",
    "plt.legend()"
   ]
  },
  {
   "cell_type": "code",
   "execution_count": 6,
   "metadata": {},
   "outputs": [
    {
     "name": "stderr",
     "output_type": "stream",
     "text": [
      "No handles with labels found to put in legend.\n"
     ]
    },
    {
     "data": {
      "text/plain": [
       "<matplotlib.legend.Legend at 0x7fa6071407f0>"
      ]
     },
     "execution_count": 6,
     "metadata": {},
     "output_type": "execute_result"
    },
    {
     "data": {
      "image/png": "[encoded data removed]",
      "text/plain": [
       "<Figure size 432x288 with 1 Axes>"
      ]
     },
     "metadata": {
      "needs_background": "light"
     },
     "output_type": "display_data"
    }
   ],
   "source": [
    "\n",
    "ax.set_xlabel('Planning time horizon')\n",
    "ax.set_ylabel('Integrated trajectory cost')\n",
    "ax.spines['right'].set_visible(False)\n",
    "ax.spines['top'].set_visible(False)\n",
    "plt.legend()\n",
    "# plt.show()\n",
    "# plt.savefig('quad_time_horizon_dependency.pdf')"
   ]
  },
  {
   "cell_type": "code",
   "execution_count": 29,
   "metadata": {},
   "outputs": [
    {
     "ename": "SyntaxError",
     "evalue": "invalid syntax (<ipython-input-29-67b175dcd5f6>, line 1)",
     "output_type": "error",
     "traceback": [
      "\u001b[0;36m  File \u001b[0;32m\"<ipython-input-29-67b175dcd5f6>\"\u001b[0;36m, line \u001b[0;32m1\u001b[0m\n\u001b[0;31m    finite horizon least squares 2418.2399703023248\u001b[0m\n\u001b[0m           ^\u001b[0m\n\u001b[0;31mSyntaxError\u001b[0m\u001b[0;31m:\u001b[0m invalid syntax\n"
     ]
    }
   ],
   "source": [
    "finite horizon least squares 2418.2399703023248\n",
    "finite horizon least squares 46.420809736504424\n",
    "infinite horizon least squares 2645.3690309231756\n",
    "infinite horizon least squares 54.4659400191749\n",
    "finite horizon stable 2324.917336583837\n",
    "finite horizon stable 43.398234183433125\n",
    "infinite horizon stable 2616.4794054941176\n",
    "infinite horizon stable 54.70239841963178"
   ]
  },
  {
   "cell_type": "markdown",
   "metadata": {},
   "source": [
    "You are comparing open loop unstable dynamics with closed loop (potentially stable) dynamics so the LS predictions might go unstable in open loop but are stable in the closed loop case. That being said, I think a better comparison would be the terminal state cost which, when running the simulation for a few steps longer goes more unstable and drifts from the target end goal state"
   ]
  }
 ],
 "metadata": {
  "kernelspec": {
   "display_name": "Python 3",
   "language": "python",
   "name": "python3"
  },
  "language_info": {
   "codemirror_mode": {
    "name": "ipython",
    "version": 3
   },
   "file_extension": ".py",
   "mimetype": "text/x-python",
   "name": "python",
   "nbconvert_exporter": "python",
   "pygments_lexer": "ipython3",
   "version": "3.8.10"
  }
 },
 "nbformat": 4,
 "nbformat_minor": 4
}
