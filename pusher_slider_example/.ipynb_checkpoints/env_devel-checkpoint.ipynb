{
 "cells": [
  {
   "cell_type": "code",
   "execution_count": 1,
   "metadata": {},
   "outputs": [],
   "source": [
    "import time\n",
    "import numpy as np\n",
    "import math\n",
    "import pybullet as bullet_client\n",
    "import pybullet_data as pd\n",
    "import os\n",
    "from copy import deepcopy\n",
    "\n",
    "dir_path = os.path.abspath('')\n",
    "\n",
    "def draw_coordinate(id, **kwargs):\n",
    "    bullet_client.addUserDebugLine([0,0,0],[0.1,0,0],[1,0,0],parentObjectUniqueId=id, lineWidth=5, **kwargs)\n",
    "    bullet_client.addUserDebugLine([0,0,0],[0,0.1,0],[0,1,0],parentObjectUniqueId=id, lineWidth=5, **kwargs)\n",
    "    bullet_client.addUserDebugLine([0,0,0],[0,0,0.1],[0,0,1],parentObjectUniqueId=id, lineWidth=5, **kwargs)\n",
    "\n",
    "def set_joints(robot_id, jnts):\n",
    "    idx = 0\n",
    "    for i in range(bullet_client.getNumJoints(robot_id)):\n",
    "        info = bullet_client.getJointInfo(robot_id, i)\n",
    "        jointType = info[2]\n",
    "        if (jointType == bullet_client.JOINT_PRISMATIC or\n",
    "                jointType == bullet_client.JOINT_REVOLUTE):\n",
    "            bullet_client.resetJointState(robot_id, i, jnts[idx])\n",
    "            idx += 1\n",
    "#         draw_coordinate(robot_id, parentLinkIndex=i)\n",
    "def make_pose(translation, rotation):\n",
    "    \"\"\"\n",
    "    Makes a homogeneous pose matrix from a translation vector and a rotation matrix.\n",
    "\n",
    "    Args:\n",
    "        translation (np.array): (x,y,z) translation value\n",
    "        rotation (np.array): a 3x3 matrix representing rotation\n",
    "\n",
    "    Returns:\n",
    "        pose (np.array): a 4x4 homogeneous matrix\n",
    "    \"\"\"\n",
    "    pose = np.zeros((4, 4))\n",
    "    pose[:3, :3] = rotation\n",
    "    pose[:3, 3] = translation\n",
    "    pose[3, 3] = 1.0\n",
    "    return pose\n",
    "\n",
    "def get_rot_trans_from_pose(pose):\n",
    "    rotation = pose[:3, :3]\n",
    "    translation = pose[:3, 3] \n",
    "    return rotation, translation\n",
    "\n",
    "def pose_inv(pose):\n",
    "    \"\"\"\n",
    "    Computes the inverse of a homogeneous matrix corresponding to the pose of some\n",
    "    frame B in frame A. The inverse is the pose of frame A in frame B.\n",
    "\n",
    "    Args:\n",
    "        pose (np.array): 4x4 matrix for the pose to inverse\n",
    "\n",
    "    Returns:\n",
    "        np.array: 4x4 matrix for the inverse pose\n",
    "    \"\"\"\n",
    "    pose_inv = np.zeros((4, 4))\n",
    "    pose_inv[:3, :3] = pose[:3, :3].T\n",
    "    pose_inv[:3, 3] = -pose_inv[:3, :3].dot(pose[:3, 3])\n",
    "    pose_inv[3, 3] = 1.0\n",
    "    return pose_inv\n"
   ]
  },
  {
   "cell_type": "code",
   "execution_count": 2,
   "metadata": {},
   "outputs": [],
   "source": [
    "class PusherSlider(object):\n",
    "    def __init__(self, render=True, time_step = 1./100., frame_skip=1):\n",
    "        self._time_step = time_step\n",
    "        self._frame_skip = frame_skip\n",
    "        self._render = render\n",
    "        if render:\n",
    "            bullet_client.connect(bullet_client.GUI)\n",
    "            bullet_client.configureDebugVisualizer(bullet_client.COV_ENABLE_GUI, 0)\n",
    "        else:\n",
    "            bullet_client.connect(bullet_client.DIRECT)\n",
    "        bullet_client.setAdditionalSearchPath(pd.getDataPath())\n",
    "        bullet_client.setTimeStep(time_step)\n",
    "        bullet_client.setGravity(0., 0., -9.81)\n",
    "        flags = bullet_client.URDF_ENABLE_CACHED_GRAPHICS_SHAPES\n",
    "        \n",
    "        # load up the ground\n",
    "        bullet_client.loadURDF(\"plane.urdf\", np.array([0.,0.,0.]), flags=flags, useFixedBase=True)\n",
    "        # load up the pusher and slider\n",
    "        self.pusher_id = bullet_client.loadURDF(dir_path+'/urdf/panda.urdf',\n",
    "                                        np.array([-0.3,0.2,0]), useFixedBase=True, flags=flags)\n",
    "        \n",
    "        self.slider_pos = np.array([0.2,0.2,0.])\n",
    "        self.slider_offset = np.array([0.,0.,0.01])\n",
    "        self.slider_id = bullet_client.loadURDF(dir_path+'/urdf/slider.urdf',\n",
    "                                        self.slider_pos+self.slider_offset, flags=flags)\n",
    "        \n",
    "        # move robot to initial pose\n",
    "        self.__rest_pose = np.array([0., 0., 0., -2.5, 0., 2.5, 0., 0.02, 0.02])\n",
    "        set_joints(self.pusher_id, self.__rest_pose)\n",
    "        draw_coordinate(-1)\n",
    "        draw_coordinate(self.slider_id)\n",
    "        \n",
    "        draw_coordinate(self.pusher_id, parentLinkIndex=12)\n",
    "        \n",
    "        self.ee_block_offset = np.array([0., -0.04-0.005, 0.05])\n",
    "        self.ee_pos = self.slider_pos + self.ee_block_offset\n",
    "        self.ee_orn = np.array([np.pi,0.,0.])\n",
    "        self.ee_orn = bullet_client.getQuaternionFromEuler(self.ee_orn)\n",
    "        # use IK to put robot in exact position\n",
    "        jnt_pose = bullet_client.calculateInverseKinematics(self.pusher_id, \n",
    "                                    12, targetPosition=self.ee_pos, targetOrientation=self.ee_orn,\n",
    "                                    residualThreshold=1e-5, maxNumIterations=200)\n",
    "        set_joints(self.pusher_id, jnt_pose)\n",
    "        ee_state = bullet_client.getLinkState(self.pusher_id, 12)\n",
    "        \n",
    "        # TODO: make this an input \n",
    "        self._vel_cnst = 0.01\n",
    "    \n",
    "    @property\n",
    "    def slider_pose(self):\n",
    "        slider_pos, slider_ori = bullet_client.getBasePositionAndOrientation(self.slider_id)\n",
    "        slider_mat  = bullet_client.getMatrixFromQuaternion(slider_ori)\n",
    "        slider_mat  = np.array(slider_mat).reshape((3,3))\n",
    "        slider_T = make_pose(slider_pos, slider_mat)\n",
    "        return slider_T\n",
    "    \n",
    "    @property\n",
    "    def pusher_pose(self):\n",
    "        ee_state = bullet_client.getLinkState(self.pusher_id, 12, computeLinkVelocity=1)\n",
    "        ee_pos   = np.array(ee_state[4])\n",
    "        ee_ori   = np.eye(3)\n",
    "        ee_T = make_pose(ee_pos, ee_ori)\n",
    "        return ee_T\n",
    "    \n",
    "    def reset(self):\n",
    "        self.slider_pos[0] = np.random.uniform(0.,0.4)\n",
    "        self.slider_pos[1] = np.random.uniform(0., 0.6)\n",
    "        self.ee_pos = self.slider_pos + self.ee_block_offset\n",
    "        \n",
    "        bullet_client.resetBasePositionAndOrientation(self.slider_id, \n",
    "                                                      self.slider_pos+self.slider_offset,\n",
    "                                                      np.array([0.,0.,0.,1.]))\n",
    "        bullet_client.resetBaseVelocity(self.slider_id, np.zeros(3), np.zeros(3))\n",
    "        \n",
    "        set_joints(self.pusher_id, self.__rest_pose)\n",
    "        jnt_pose = bullet_client.calculateInverseKinematics(self.pusher_id, \n",
    "                            12, targetPosition=self.ee_pos, targetOrientation=self.ee_orn,\n",
    "                            residualThreshold=1e-5, maxNumIterations=200)\n",
    "        set_joints(self.pusher_id, jnt_pose)\n",
    "    \n",
    "    def step(self, vb): # pass in velocity in body frame\n",
    "        pusher_T = self.pusher_pose\n",
    "        slider_T = self.slider_pose\n",
    "        pnt_T = pose_inv(slider_T)@pusher_T\n",
    "        _, pnt_pos = get_rot_trans_from_pose(pnt_T)\n",
    "        slider_mat, _ = get_rot_trans_from_pose(slider_T)\n",
    "        _, pusher_pos = get_rot_trans_from_pose(pusher_T)\n",
    "        print(pnt_pos)\n",
    "        if pnt_pos[0] > 0.04:\n",
    "            vb[0] = np.clip(vb[0], -np.inf, 0)\n",
    "        if pnt_pos[0] < -0.04:\n",
    "            vb[0] = np.clip(vb[0], 0., np.inf)\n",
    "        print(vb)\n",
    "        pusher_vel_d = slider_mat[:2,:2] @ vb \n",
    "\n",
    "        pusher_pos_d = pusher_pos + np.concatenate([pusher_vel_d,[0.]]) * self._vel_cnst\n",
    "        jnt_pose = bullet_client.calculateInverseKinematics(self.pusher_id, \n",
    "                            12, targetPosition=pusher_pos_d, targetOrientation=self.ee_orn,\n",
    "                            residualThreshold=1e-5, maxNumIterations=200)\n",
    "        for i, jnt in enumerate(jnt_pose):\n",
    "            bullet_client.setJointMotorControl2(\n",
    "                            self.pusher_id, i, bullet_client.POSITION_CONTROL, \n",
    "                            jnt, force=270.)\n",
    "        bullet_client.stepSimulation()"
   ]
  },
  {
   "cell_type": "code",
   "execution_count": 3,
   "metadata": {},
   "outputs": [],
   "source": [
    "env = PusherSlider()"
   ]
  },
  {
   "cell_type": "code",
   "execution_count": 4,
   "metadata": {},
   "outputs": [],
   "source": [
    "ee_T = env.pusher_pose\n",
    "slider_T = env.slider_pose"
   ]
  },
  {
   "cell_type": "code",
   "execution_count": 6,
   "metadata": {},
   "outputs": [],
   "source": [
    "tr = pose_inv(ee_T)@slider_T"
   ]
  },
  {
   "cell_type": "code",
   "execution_count": 7,
   "metadata": {},
   "outputs": [
    {
     "data": {
      "text/plain": [
       "(array([[1., 0., 0.],\n",
       "        [0., 1., 0.],\n",
       "        [0., 0., 1.]]),\n",
       " array([ 8.38637352e-06,  4.49988067e-02, -4.00031859e-02]))"
      ]
     },
     "execution_count": 7,
     "metadata": {},
     "output_type": "execute_result"
    }
   ],
   "source": [
    "tr[:3, :3],tr[:3, 3] "
   ]
  },
  {
   "cell_type": "code",
   "execution_count": 4,
   "metadata": {},
   "outputs": [
    {
     "data": {
      "text/plain": [
       "array([[1.  , 0.  , 0.  , 0.2 ],\n",
       "       [0.  , 1.  , 0.  , 0.2 ],\n",
       "       [0.  , 0.  , 1.  , 0.01],\n",
       "       [0.  , 0.  , 0.  , 1.  ]])"
      ]
     },
     "execution_count": 4,
     "metadata": {},
     "output_type": "execute_result"
    }
   ],
   "source": [
    "env.slider_pose"
   ]
  },
  {
   "cell_type": "code",
   "execution_count": 19,
   "metadata": {},
   "outputs": [],
   "source": [
    "env.reset()"
   ]
  },
  {
   "cell_type": "code",
   "execution_count": 12,
   "metadata": {},
   "outputs": [
    {
     "name": "stdout",
     "output_type": "stream",
     "text": [
      "[-0.01442471 -0.0476123   0.03995563]\n",
      "[0.  1.8]\n",
      "[-0.01439994 -0.04761383  0.03995508]\n",
      "[0.  1.8]\n",
      "[-0.01437426 -0.04761526  0.03995448]\n",
      "[0.  1.8]\n",
      "[-0.01434745 -0.04761664  0.03995383]\n",
      "[0.  1.8]\n",
      "[-0.01431913 -0.04761802  0.03995315]\n",
      "[0.  1.8]\n",
      "[-0.01428882 -0.0476193   0.03995248]\n",
      "[0.  1.8]\n",
      "[-0.01425592 -0.04762051  0.03995192]\n",
      "[0.  1.8]\n",
      "[-0.01421967 -0.0476214   0.03995152]\n",
      "[0.  1.8]\n",
      "[-0.01417893 -0.047622    0.03995121]\n",
      "[0.  1.8]\n",
      "[-0.01413343 -0.04762234  0.03995115]\n",
      "[0.  1.8]\n",
      "[-0.01408735 -0.04762241  0.03995108]\n",
      "[0.  1.8]\n",
      "[-0.01404872 -0.04762241  0.03995089]\n",
      "[0.  1.8]\n",
      "[-0.01401934 -0.04762195  0.03995089]\n",
      "[0.  1.8]\n",
      "[-0.0139894  -0.0476214   0.03995088]\n",
      "[0.  1.8]\n",
      "[-0.01395905 -0.04762058  0.03995088]\n",
      "[0.  1.8]\n",
      "[-0.01392847 -0.0476194   0.03995089]\n",
      "[0.  1.8]\n",
      "[-0.01389754 -0.04761784  0.03995087]\n",
      "[0.  1.8]\n",
      "[-0.01386622 -0.04761615  0.03995085]\n",
      "[0.  1.8]\n",
      "[-0.01383447 -0.04761427  0.03995083]\n",
      "[0.  1.8]\n",
      "[-0.01380233 -0.04761226  0.03995082]\n",
      "[0.  1.8]\n"
     ]
    }
   ],
   "source": [
    "for t in range(20):\n",
    "    env.step(np.array([-0,1.8]))"
   ]
  },
  {
   "cell_type": "code",
   "execution_count": null,
   "metadata": {},
   "outputs": [],
   "source": []
  },
  {
   "cell_type": "code",
   "execution_count": null,
   "metadata": {},
   "outputs": [],
   "source": []
  }
 ],
 "metadata": {
  "kernelspec": {
   "display_name": "Python 3",
   "language": "python",
   "name": "python3"
  },
  "language_info": {
   "codemirror_mode": {
    "name": "ipython",
    "version": 3
   },
   "file_extension": ".py",
   "mimetype": "text/x-python",
   "name": "python",
   "nbconvert_exporter": "python",
   "pygments_lexer": "ipython3",
   "version": "3.8.5"
  }
 },
 "nbformat": 4,
 "nbformat_minor": 4
}
