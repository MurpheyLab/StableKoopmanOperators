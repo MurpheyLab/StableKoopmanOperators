{
 "cells": [
  {
   "cell_type": "code",
   "execution_count": 21,
   "metadata": {},
   "outputs": [],
   "source": [
    "import numpy as np\n",
    "import pickle as pkl\n",
    "import matplotlib.pyplot as plt\n",
    "import random\n",
    "from scipy.io import savemat"
   ]
  },
  {
   "cell_type": "code",
   "execution_count": 32,
   "metadata": {},
   "outputs": [],
   "source": [
    "x = np.random.normal(0,1,size=(30,4))"
   ]
  },
  {
   "cell_type": "code",
   "execution_count": 36,
   "metadata": {},
   "outputs": [],
   "source": [
    "idxs = np.random.randint(0, 29, size=(5,5))"
   ]
  },
  {
   "cell_type": "code",
   "execution_count": 38,
   "metadata": {},
   "outputs": [
    {
     "data": {
      "text/plain": [
       "array([[23, 14, 21],\n",
       "       [ 9,  5, 18],\n",
       "       [ 0, 20, 16],\n",
       "       [24,  1, 21],\n",
       "       [10,  3, 28]])"
      ]
     },
     "execution_count": 38,
     "metadata": {},
     "output_type": "execute_result"
    }
   ],
   "source": [
    "idxs[:, :3]"
   ]
  },
  {
   "cell_type": "code",
   "execution_count": 39,
   "metadata": {},
   "outputs": [
    {
     "data": {
      "text/plain": [
       "array([[22, 28],\n",
       "       [26, 17],\n",
       "       [14, 26],\n",
       "       [ 8,  0],\n",
       "       [18,  0]])"
      ]
     },
     "execution_count": 39,
     "metadata": {},
     "output_type": "execute_result"
    }
   ],
   "source": [
    "idxs[:,3:]"
   ]
  },
  {
   "cell_type": "code",
   "execution_count": 40,
   "metadata": {},
   "outputs": [
    {
     "data": {
      "text/plain": [
       "array([[23, 14, 21, 22, 28],\n",
       "       [ 9,  5, 18, 26, 17],\n",
       "       [ 0, 20, 16, 14, 26],\n",
       "       [24,  1, 21,  8,  0],\n",
       "       [10,  3, 28, 18,  0]])"
      ]
     },
     "execution_count": 40,
     "metadata": {},
     "output_type": "execute_result"
    }
   ],
   "source": [
    "idxs"
   ]
  },
  {
   "cell_type": "code",
   "execution_count": 19,
   "metadata": {},
   "outputs": [],
   "source": [
    "import glob"
   ]
  },
  {
   "cell_type": "code",
   "execution_count": 20,
   "metadata": {},
   "outputs": [
    {
     "data": {
      "text/plain": [
       "['data/expert_data/2021-05-31_21-52-56-log.pkl',\n",
       " 'data/expert_data/2021-05-31_21-52-46-log.pkl',\n",
       " 'data/expert_data/2021-05-31_21-51-54-log.pkl',\n",
       " 'data/expert_data/2021-05-31_21-52-08-log.pkl',\n",
       " 'data/expert_data/2021-05-31_21-52-34-log.pkl',\n",
       " 'data/expert_data/2021-05-31_21-54-06-log.pkl']"
      ]
     },
     "execution_count": 20,
     "metadata": {},
     "output_type": "execute_result"
    }
   ],
   "source": [
    "glob.glob('data/expert_data/*.pkl')"
   ]
  },
  {
   "cell_type": "code",
   "execution_count": 2,
   "metadata": {},
   "outputs": [],
   "source": [
    "def psi(s):\n",
    "    x,y,th,py,vp,vn = s\n",
    "    sth = np.sin(th)\n",
    "    cth = np.cos(th)\n",
    "    return np.array([\n",
    "        x, y, th, \n",
    "        py, vn, vp,\n",
    "        sth*vn, cth*vn, sth*vp, cth*vp,\n",
    "        py*vn, vp*vn \n",
    "    ])\n",
    "def mapData2Func(data, f):\n",
    "    if f is None:\n",
    "        def f(x): x\n",
    "    out_data = []\n",
    "    for x in data:\n",
    "        fx = f(x)\n",
    "        out_data.append(fx)\n",
    "    return np.stack(out_data)"
   ]
  },
  {
   "cell_type": "code",
   "execution_count": 3,
   "metadata": {},
   "outputs": [],
   "source": [
    "data = pkl.load(open('data/expert_data/2021-05-31_13-49-27-log.pkl', 'rb'))"
   ]
  },
  {
   "cell_type": "code",
   "execution_count": 4,
   "metadata": {},
   "outputs": [],
   "source": [
    "traj = []\n",
    "ctrl = []"
   ]
  },
  {
   "cell_type": "code",
   "execution_count": 5,
   "metadata": {},
   "outputs": [],
   "source": [
    "for (x, y), th, (px, py), (p_vx, p_vy), u in zip(data['s pos in w'], data['s ori in w'], \n",
    "                                        data['p pos in s'], data['p vel in s'], data['u']):\n",
    "    state = np.array([\n",
    "        x, y, th[0], px, p_vx, p_vy\n",
    "    ])\n",
    "    traj.append(state)\n",
    "    ctrl.append(u)"
   ]
  },
  {
   "cell_type": "code",
   "execution_count": 12,
   "metadata": {},
   "outputs": [
    {
     "data": {
      "text/plain": [
       "([0, 1, 2, 3, 4, 5, 6, 7, 8], [1, 2, 3, 4, 5, 6, 7, 8, 9])"
      ]
     },
     "execution_count": 12,
     "metadata": {},
     "output_type": "execute_result"
    }
   ],
   "source": [
    "x = [i for i in range(10)]\n",
    "x[0:-1], x[1:]"
   ]
  },
  {
   "cell_type": "code",
   "execution_count": 6,
   "metadata": {},
   "outputs": [],
   "source": [
    "X = np.stack(traj[0:-1])\n",
    "Y = np.stack(traj[1:])\n",
    "U = np.stack(ctrl)"
   ]
  },
  {
   "cell_type": "code",
   "execution_count": null,
   "metadata": {},
   "outputs": [],
   "source": []
  },
  {
   "cell_type": "code",
   "execution_count": 7,
   "metadata": {},
   "outputs": [],
   "source": [
    "PsiX = mapData2Func(X, f=psi)\n",
    "PsiY = mapData2Func(Y, f=psi)"
   ]
  },
  {
   "cell_type": "code",
   "execution_count": 17,
   "metadata": {},
   "outputs": [],
   "source": [
    "data2save = {'PsiX': PsiX, 'PsiY': PsiY, 'U': U[:-1]}"
   ]
  },
  {
   "cell_type": "code",
   "execution_count": 18,
   "metadata": {},
   "outputs": [],
   "source": [
    "savemat('data4Giorgos.mat', data2save)"
   ]
  },
  {
   "cell_type": "code",
   "execution_count": 10,
   "metadata": {},
   "outputs": [
    {
     "data": {
      "text/plain": [
       "[<matplotlib.lines.Line2D at 0x7fae5a0e0bb0>,\n",
       " <matplotlib.lines.Line2D at 0x7fae5a0e0940>,\n",
       " <matplotlib.lines.Line2D at 0x7fae5a0e05b0>,\n",
       " <matplotlib.lines.Line2D at 0x7fae5a0e0be0>,\n",
       " <matplotlib.lines.Line2D at 0x7fae5a0e0ee0>,\n",
       " <matplotlib.lines.Line2D at 0x7fae5a0e09a0>,\n",
       " <matplotlib.lines.Line2D at 0x7fae5a0e02b0>,\n",
       " <matplotlib.lines.Line2D at 0x7fae5a0e0ca0>,\n",
       " <matplotlib.lines.Line2D at 0x7fae5a0e0c70>,\n",
       " <matplotlib.lines.Line2D at 0x7fae5a0e0910>,\n",
       " <matplotlib.lines.Line2D at 0x7fae5a0e03d0>,\n",
       " <matplotlib.lines.Line2D at 0x7fae5a3faf70>]"
      ]
     },
     "execution_count": 10,
     "metadata": {},
     "output_type": "execute_result"
    },
    {
     "data": {
      "image/png": "[encoded data removed]",
      "text/plain": [
       "<Figure size 432x288 with 1 Axes>"
      ]
     },
     "metadata": {
      "needs_background": "light"
     },
     "output_type": "display_data"
    }
   ],
   "source": [
    "plt.plot(PsiX,'r')\n",
    "plt.plot(PsiY,'k')"
   ]
  },
  {
   "cell_type": "code",
   "execution_count": null,
   "metadata": {},
   "outputs": [],
   "source": []
  }
 ],
 "metadata": {
  "kernelspec": {
   "display_name": "Python 3",
   "language": "python",
   "name": "python3"
  },
  "language_info": {
   "codemirror_mode": {
    "name": "ipython",
    "version": 3
   },
   "file_extension": ".py",
   "mimetype": "text/x-python",
   "name": "python",
   "nbconvert_exporter": "python",
   "pygments_lexer": "ipython3",
   "version": "3.8.5"
  }
 },
 "nbformat": 4,
 "nbformat_minor": 4
}
